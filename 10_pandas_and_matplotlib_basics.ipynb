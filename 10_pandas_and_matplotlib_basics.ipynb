{
  "cells": [
    {
      "cell_type": "markdown",
      "metadata": {
        "id": "view-in-github",
        "colab_type": "text"
      },
      "source": [
        "<a href=\"https://colab.research.google.com/github/aicha0001/ISYS3015P/blob/main/10_pandas_and_matplotlib_basics.ipynb\" target=\"_parent\"><img src=\"https://colab.research.google.com/assets/colab-badge.svg\" alt=\"Open In Colab\"/></a>"
      ]
    },
    {
      "cell_type": "markdown",
      "metadata": {
        "id": "tfs3drFyTCTc"
      },
      "source": [
        "# Data Analysis"
      ]
    },
    {
      "cell_type": "markdown",
      "metadata": {
        "id": "v3dzIlWETCTe"
      },
      "source": [
        "## Introduction\n",
        "This series of notebooks are a simple mini tutorials to introduce you to the basic functionality of Jupyter, Python, pandas and matplotlib. The comprehensive explanations should guide you to be able to analyze software data on your own. Therefore, the examples is chosen in such a way that we come across the typical methods in a data analysis. Have fun!\n",
        "\n",
        "_Notebook from: https://www.feststelltaste.de_"
      ]
    },
    {
      "cell_type": "markdown",
      "metadata": {
        "id": "NY-4D_i0TCTf"
      },
      "source": [
        "## I. Stating Question\n",
        "In this notebook, we want to take a closer look at the development history of the open source project \"Linux\" based on the history of the corresponding GitHub mirror repository.\n",
        "\n",
        "**We want to find out which people are the TOP 10 contributors.**"
      ]
    },
    {
      "cell_type": "markdown",
      "metadata": {
        "id": "Wb8YcQwBTCTg"
      },
      "source": [
        "## II. Exploratory Data Analysis\n",
        "\n",
        "## The dataset\n",
        "\n",
        "A local clone of the GitHub repository https://github.com/torvalds/linux/ was created by using the command  \n",
        "\n",
        "```\n",
        "git clone https://github.com/torvalds/linux.git\n",
        "```\n",
        "\n",
        "The relevant parts of the history for this analysis were produced by using\n",
        "\n",
        "```\n",
        "git log --pretty=\"%ad,%aN\" --no-merges > git_log_linux_authors_timestamps.csv\n",
        "```\n",
        "\n",
        "This command returned the commit timestamp (`%ad`) and the author name (`%aN`) for each commit of the Git repository. The corresponding values are separated by commas. We also indicated that we do not want to receive merge commits (via `--no-merges`). The result of the output was saved in the file `git_log_linux_authors_timestamps.csv` and compressed for a optimized file size with `gzip` to the file `git_log_linux_authors_timestamps.gz`.\n"
      ]
    },
    {
      "cell_type": "markdown",
      "metadata": {
        "id": "aFH0oUjyTCTg"
      },
      "source": [
        "### Getting to know pandas\n",
        "Pandas is a data analysis tool written in Python (and C), which is perfect for the analysis of tabular data due to the use of effective data structures and built-in statistics functions.\n",
        "\n",
        "#### Load a module\n",
        "1. import the module `pandas` with `import <module> as <abbreviation>` as abbreviated `pd`"
      ]
    },
    {
      "cell_type": "code",
      "execution_count": null,
      "metadata": {
        "tags": [
          "delete"
        ],
        "id": "IAFSJv2yTCTg"
      },
      "outputs": [],
      "source": []
    },
    {
      "cell_type": "markdown",
      "metadata": {
        "id": "_RkoTIbqTCTh"
      },
      "source": [
        "#### Check loading of the right module\n",
        "\n",
        "1. write `pd` and attach a `?` behind it\n",
        "1. make the documentation disappear with the `Esc` key."
      ]
    },
    {
      "cell_type": "code",
      "execution_count": null,
      "metadata": {
        "tags": [
          "delete"
        ],
        "id": "TiLwHpqZTCTh"
      },
      "outputs": [],
      "source": []
    },
    {
      "cell_type": "markdown",
      "metadata": {
        "id": "s9T1ZE9JTCTh"
      },
      "source": [
        "#### Import dataset\n",
        "1. use the `read_csv` method from pandas to read in the dataset `../datasets/git_log_linux_authors_timestamps.gz`.\n",
        "1. write the result into the variable `log`.\n",
        "1. display the first five entries of `log` with the `head()` method."
      ]
    },
    {
      "cell_type": "code",
      "execution_count": null,
      "metadata": {
        "tags": [
          "delete"
        ],
        "id": "hNj7zdwwTCTh"
      },
      "outputs": [],
      "source": []
    },
    {
      "cell_type": "markdown",
      "metadata": {
        "id": "K3aBsHQHTCTh"
      },
      "source": [
        "#### Getting to know the data\n",
        "1. call `info()` on `log`."
      ]
    },
    {
      "cell_type": "code",
      "execution_count": null,
      "metadata": {
        "tags": [
          "delete"
        ],
        "id": "5b9xZUM0TCTh"
      },
      "outputs": [],
      "source": []
    },
    {
      "cell_type": "markdown",
      "metadata": {
        "id": "QLm41V_zTCTh"
      },
      "source": [
        "#### A glimpse at the result\n",
        "\n",
        "We see that `log` is\n",
        "* a **DataFrame** that consists of\n",
        "  * 723214 **entries** (also called **rows**)\n",
        "  * 2 **columns** (so-called **Series**): `timestamp` and `author`\n"
      ]
    },
    {
      "cell_type": "markdown",
      "metadata": {
        "id": "SKAQDV-TTCTi"
      },
      "source": [
        "#### Access a Series\n",
        "1. access the Series `author` by either\n",
        " * using the `['<column name>']` notation or\n",
        " * by directly using the name of the `Series`*.\n",
        "1. display the last five entries by using the `tail()` method\n",
        "\n",
        "\n",
        "**A word of caution: In this tutorial, we access a Series directly with the `.<Series name>` notation (e. g. `log.author`). This works only if the names of the Series are different from the provided functions and properties of a Series. E. g. it doesn't work, when you try to access a Series named `count`, because `count()` is a function of a Series. Here, you have to use the `['<Series name>']` notation (e.g. `log['count']`. The benefit of the direct access is that you are able to use auto completion (which is good at the beginning). The drawback is creating a source of potential future problems when pandas evolves and gets new functions and properties that are in conflict with your column names.*"
      ]
    },
    {
      "cell_type": "code",
      "execution_count": null,
      "metadata": {
        "tags": [
          "delete"
        ],
        "id": "Y4JNjktrTCTi"
      },
      "outputs": [],
      "source": []
    },
    {
      "cell_type": "markdown",
      "metadata": {
        "id": "mbJHs1-lTCTi"
      },
      "source": [
        "##### Discussion: Think a little bit about possible data quality issues in this dataset."
      ]
    },
    {
      "cell_type": "markdown",
      "metadata": {
        "tags": [
          "delete"
        ],
        "id": "w3KjzJHITCTi"
      },
      "source": []
    },
    {
      "cell_type": "markdown",
      "metadata": {
        "id": "9ls2X6JqTCTi"
      },
      "source": [
        "## III. Formal Modeling"
      ]
    },
    {
      "cell_type": "markdown",
      "metadata": {
        "id": "UdebwZhUTCTi"
      },
      "source": [
        "### Top 10 authors\n",
        "#### Execute a method of a Series\n",
        "1. count the number of the occuring author names with the method `value_counts()`.\n",
        "1. take just the first 10 authors from the created list by using `head()` with an argument.\n",
        "1. save the result in the variable `top10`*.\n",
        "1. list the first ten results of `top10`.\n",
        "\n",
        "**Note: Normally we would choose a more expressive name like `top10_contributors` to make sure we and others now what's in the variable. But in a tutorial, we don't want keep things short.*"
      ]
    },
    {
      "cell_type": "code",
      "execution_count": null,
      "metadata": {
        "tags": [
          "delete"
        ],
        "id": "VVpaOtzpTCTi"
      },
      "outputs": [],
      "source": []
    },
    {
      "cell_type": "markdown",
      "metadata": {
        "id": "M2yQtnFnTCTi"
      },
      "source": [
        "## IV. Interpretation\n",
        "\n",
        "##### Discussion\n",
        "\n",
        "Discuss the result:\n",
        "* Which insights does this list provided?\n",
        "* Which fallacies chould exist?\n",
        "* Do you find anything awkward?"
      ]
    },
    {
      "cell_type": "markdown",
      "metadata": {
        "tags": [
          "delete"
        ],
        "id": "es7J-fMgTCTi"
      },
      "source": []
    },
    {
      "cell_type": "markdown",
      "metadata": {
        "id": "J7mZfgKtTCTi"
      },
      "source": [
        "## V. Communication\n",
        "\n",
        "Next, we want to visualize or plot the result. To display the plotting result of the internally used plotting library `matplotlib` directly in the notebook. This needs to be configured.\n",
        "\n",
        "#### Plot diagram\n",
        "1. create a diagram of the Series `top10` with `plot()`."
      ]
    },
    {
      "cell_type": "code",
      "execution_count": null,
      "metadata": {
        "tags": [
          "delete"
        ],
        "id": "25wD9jB1TCTj"
      },
      "outputs": [],
      "source": []
    },
    {
      "cell_type": "markdown",
      "metadata": {
        "id": "GVIkxkCeTCTj"
      },
      "source": [
        "##### Discussion: What does this visualization display? Is it appropriate? Why and why not?"
      ]
    },
    {
      "cell_type": "markdown",
      "metadata": {
        "tags": [
          "delete"
        ],
        "id": "SPnyS1AaTCTj"
      },
      "source": []
    },
    {
      "cell_type": "markdown",
      "metadata": {
        "id": "wq4PGduGTCTj"
      },
      "source": [
        "#### Create a bar chart\n",
        "1. call the `bar()` sub-method of `plot` for the data in `top10`."
      ]
    },
    {
      "cell_type": "code",
      "execution_count": null,
      "metadata": {
        "tags": [
          "delete"
        ],
        "id": "OY57DZIvTCTj"
      },
      "outputs": [],
      "source": []
    },
    {
      "cell_type": "markdown",
      "metadata": {
        "id": "zbMmPiYqTCTj"
      },
      "source": [
        "#### Improve the  output\n",
        "1. add a `;` to the call above and re-execute it."
      ]
    },
    {
      "cell_type": "code",
      "execution_count": null,
      "metadata": {
        "tags": [
          "delete"
        ],
        "id": "yezXD5FKTCTj"
      },
      "outputs": [],
      "source": []
    },
    {
      "cell_type": "markdown",
      "metadata": {
        "id": "CcXQLv68TCTj"
      },
      "source": [
        "##### Question\n",
        "\n",
        "* What has changed?"
      ]
    },
    {
      "cell_type": "markdown",
      "metadata": {
        "tags": [
          "delete"
        ],
        "id": "rWRfCVi-TCTj"
      },
      "source": []
    },
    {
      "cell_type": "markdown",
      "metadata": {
        "id": "iXyMuLyTTCTj"
      },
      "source": [
        "#### Create a pie chart\n",
        "\n",
        "This data can also be visualized as a pie chart (which is a rare occasion and should be, because pie charts are evil).\n",
        "\n",
        "\n",
        "1. call the `pie()` sub-method of `plot` for the data in `top10`."
      ]
    },
    {
      "cell_type": "code",
      "execution_count": null,
      "metadata": {
        "tags": [
          "delete"
        ],
        "id": "n1wXpTp-TCTj"
      },
      "outputs": [],
      "source": []
    },
    {
      "cell_type": "markdown",
      "metadata": {
        "id": "3il2DeguTCTj"
      },
      "source": [
        "##### Discussion: Why are pie charts considered harmful?"
      ]
    },
    {
      "cell_type": "markdown",
      "metadata": {
        "tags": [
          "delete"
        ],
        "id": "NIctiQXbTCTj"
      },
      "source": []
    },
    {
      "cell_type": "markdown",
      "metadata": {
        "id": "5rlq9p58TCTk"
      },
      "source": [
        "#### Create a more beautiful pie chart (nevertheless)\n",
        "\n",
        "1. create another pie chart, this time directly with `plot()` of the Series `top10` and with the following parameters:  \n",
        " * `kind=\"pie\"`\n",
        " * `figsize=[5,5]`\n",
        " * `title=\"Top 10 Contributors\"`\n",
        " * `label=\"\"`  \n",
        "\n",
        "Tip: Use auto completion."
      ]
    },
    {
      "cell_type": "code",
      "execution_count": null,
      "metadata": {
        "tags": [
          "delete"
        ],
        "id": "wAzQRML5TCTk"
      },
      "outputs": [],
      "source": []
    },
    {
      "cell_type": "markdown",
      "metadata": {
        "id": "n0hYOWsETCTk"
      },
      "source": [
        "## Summary\n",
        "This was a complete walkthrough through the basics of Jupyter Notebook, Python, pandas and matplotlib."
      ]
    },
    {
      "cell_type": "code",
      "execution_count": null,
      "metadata": {
        "id": "R3JO2VCvTCTv"
      },
      "outputs": [],
      "source": []
    }
  ],
  "metadata": {
    "kernelspec": {
      "display_name": "Python 3 (ipykernel)",
      "language": "python",
      "name": "python3"
    },
    "language_info": {
      "codemirror_mode": {
        "name": "ipython",
        "version": 3
      },
      "file_extension": ".py",
      "mimetype": "text/x-python",
      "name": "python",
      "nbconvert_exporter": "python",
      "pygments_lexer": "ipython3",
      "version": "3.10.12"
    },
    "colab": {
      "provenance": [],
      "include_colab_link": true
    }
  },
  "nbformat": 4,
  "nbformat_minor": 0
}